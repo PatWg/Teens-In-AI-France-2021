{
 "cells": [
  {
   "cell_type": "markdown",
   "metadata": {},
   "source": [
    "# Teens in AI France 2021 – Workshop Python"
   ]
  },
  {
   "cell_type": "markdown",
   "metadata": {},
   "source": [
    "## Présentation du workshop"
   ]
  },
  {
   "cell_type": "markdown",
   "metadata": {},
   "source": [
    "Dans ce workshop, nous allons voir un peu plus en détails les structures de contrôle.\n",
    "\n",
    "Malgré les apparences, les instructions d'un programme ne s'exécutent pas forcément de façon linéaire (de haut en bas). Les structures de contrôle peuvent justement _casser_ cette linéarité en nous offrant la possibilité de :\n",
    "\n",
    "- Répéter un bloc d'instructions selon une condition donnée ;\n",
    "- Exécuter ou pas un bloc d'instructions selon une condition donnée.\n",
    "\n",
    "Ce genre de structures s'avèrent très utiles. Et nous allons voir leurs utilisations dans le cadre d'une analyse de données provenant de l'INSEE et portant sur les prénoms données aux enfants nés entre 1900 et 2018 en France."
   ]
  },
  {
   "cell_type": "markdown",
   "metadata": {},
   "source": [
    "## Présentation du contexte\n",
    "\n",
    "Nous allons utiliser un fichier `nat2018.csv` qui contient comme information les prénoms donnés aux enfants nés en France entre 1900 et 2018. Un fichier CSV est un fichier qui permet de représenter les données d'un tableau sous forme de texte. Une ligne correspond à une entrée du tableau. Les colonnes sont quant à elles séparées par des virgules ou point-virgules. Ci-après les premières lignes de ce fichier :\n",
    "\n",
    "![csv](csv.png)"
   ]
  },
  {
   "cell_type": "markdown",
   "metadata": {},
   "source": [
    "Nous allons commencer par écrire du code qui va nous permettre de récupérer le contenu de ce fichier `nat2018.csv` dans une variable grâce à la bibliothèque `pandas`."
   ]
  },
  {
   "cell_type": "code",
   "execution_count": 55,
   "metadata": {},
   "outputs": [
    {
     "name": "stdout",
     "output_type": "stream",
     "text": [
      "   sexe preusuel annais  nombre\n",
      "0     1        A   1980       3\n",
      "1     1        A   1998       3\n",
      "2     1        A   XXXX      21\n",
      "3     1    AADAM   2009       4\n",
      "4     1    AADAM   2014       3\n"
     ]
    }
   ],
   "source": [
    "import pandas as pd\n",
    "\n",
    "donnees = pd.read_csv(\"nat2018.csv\", sep=\";\")\n",
    "# On affiche les 5 premières lignes du fichier\n",
    "print(donnees.head())"
   ]
  },
  {
   "cell_type": "markdown",
   "metadata": {},
   "source": [
    "Avec cette variable `donnees`, nous allons désormais pouvoir présenter les structures de contrôle et les mettre en pratique."
   ]
  },
  {
   "cell_type": "markdown",
   "metadata": {},
   "source": [
    "### Structures itératives\n",
    "\n",
    "Une structure itérative (aussi appelée _boucle_) permet de répéter un bloc d'instructions. Il existe deux types de boucles :\n",
    "\n",
    "- Soit les instructions sont répétées un nombre défini de fois ;\n",
    "- Soit les instructions sont répétées un nombre indéfini de fois.\n",
    "\n",
    "Lorsque l'on souhaite répéter des instructions, il est donc _primordial_ de se poser la question suivante : Est-ce que je sais combien de fois je dois répéter mes instructions ?\n",
    "\n",
    "#### Boucle `for`\n",
    "\n",
    "La boucle `for` est à utiliser lorsque l'on est capable de déterminer exactement le nombre de fois que nos instructions devront être répétées. C'est donc idéal lorsque nous souhaitons parcours une liste ou un dataframe créé par `pandas`.\n",
    "\n",
    "Voyons voir comment utiliser une boucle `for` avec une liste :"
   ]
  },
  {
   "cell_type": "code",
   "execution_count": 56,
   "metadata": {},
   "outputs": [
    {
     "name": "stdout",
     "output_type": "stream",
     "text": [
      "Python\n",
      "Java\n",
      "Javascript\n",
      "C\n"
     ]
    }
   ],
   "source": [
    "langages = [\"Python\", \"Java\", \"Javascript\", \"C\"]\n",
    "\n",
    "# 'langage' est une variable de boucle. Elle va prendre successivement toutes les valeurs contenues dans la liste\n",
    "# Attention au symbole ':' en bout de ligne\n",
    "# Attention à l'indentation: les lignes indentées appartiennent au \"corps de la boucle\"\n",
    "for langage in langages:\n",
    "    print(langage)"
   ]
  },
  {
   "cell_type": "markdown",
   "metadata": {},
   "source": [
    "Il existe d'autres moyens d'itérer sur les éléments d'une liste. Nous allons en voir deux autres ci-après. La première méthode va définir une variable de boucle qui va correspondre à l'indice d'un élément dans la boucle. La seconde méthode va créer deux variables de boucle: une correspondant à l'indice et l'autre correspondant à l'élément à cet indice."
   ]
  },
  {
   "cell_type": "code",
   "execution_count": 57,
   "metadata": {},
   "outputs": [
    {
     "name": "stdout",
     "output_type": "stream",
     "text": [
      "0 Python\n",
      "1 Java\n",
      "2 Javascript\n",
      "3 C\n",
      "\n",
      "\n",
      "0 Python\n",
      "1 Java\n",
      "2 Javascript\n",
      "3 C\n"
     ]
    }
   ],
   "source": [
    "# indice va prendre les valeurs [0; ..; len(langages) - 1]\n",
    "for indice in range(len(langages)):\n",
    "    print(indice, langages[indice])\n",
    "\n",
    "# Cette ligne là n'étant pas indentée, elle n'appartient pas au corps de la première boucle.\n",
    "print(\"\\n\")\n",
    "\n",
    "for indice, langage in enumerate(langages):\n",
    "    print(indice, langage)"
   ]
  },
  {
   "cell_type": "markdown",
   "metadata": {},
   "source": [
    "Si on souhaite maintenant itérer sur un dataframe créé par `pandas`, il faut modifier un peu notre instruction. En effet, la structure d'une liste est différent de celle d'un dataframe. On peut donc écrire le code suivant :"
   ]
  },
  {
   "cell_type": "code",
   "execution_count": 58,
   "metadata": {},
   "outputs": [
    {
     "name": "stdout",
     "output_type": "stream",
     "text": [
      "0\n",
      "sexe           1\n",
      "preusuel       A\n",
      "annais      1980\n",
      "nombre         3\n",
      "Name: 0, dtype: object\n",
      "1\n",
      "sexe           1\n",
      "preusuel       A\n",
      "annais      1998\n",
      "nombre         3\n",
      "Name: 1, dtype: object\n",
      "2\n",
      "sexe           1\n",
      "preusuel       A\n",
      "annais      XXXX\n",
      "nombre        21\n",
      "Name: 2, dtype: object\n",
      "3\n",
      "sexe            1\n",
      "preusuel    AADAM\n",
      "annais       2009\n",
      "nombre          4\n",
      "Name: 3, dtype: object\n",
      "4\n",
      "sexe            1\n",
      "preusuel    AADAM\n",
      "annais       2014\n",
      "nombre          3\n",
      "Name: 4, dtype: object\n"
     ]
    }
   ],
   "source": [
    "# donnees contient beaucoup de données. On va simplement itérer sur les 5 premières valeurs\n",
    "for indice, ligne in donnees.head().iterrows():\n",
    "    print(indice)\n",
    "    print(ligne)"
   ]
  },
  {
   "cell_type": "markdown",
   "metadata": {},
   "source": [
    "### Boucle `while`\n",
    "\n",
    "La boucle `while` est à utiliser lorsque l'on n'est pas capable de déterminer exactement le nombre de fois que nos instructions devront être répétées. Lorsque l'on utilise une boucle `while`, on doit alors préciser **à quelle condition** les instructions seront répétées. Il faut donc être capable de décrire une condition en Python. On va voir comment faire dans le paragraphe juste après.\n",
    "\n",
    "Par soucis de temps, je ne vais pas parler beaucoup plus de la boucle `while`, mais vous pourrez trouver plus d'informations [ici](https://www.w3schools.com/python/python_while_loops.asp)."
   ]
  },
  {
   "cell_type": "markdown",
   "metadata": {},
   "source": [
    "### Structures conditionnelles\n",
    "\n",
    "#### Présentation\n",
    "\n",
    "Une structure conditionnelle permet d'effectuer des instructions si une condition est vérifiée. Une première question que l'on peut se poser est alors la suivante : Comment décrire une condition en Python ?\n",
    "\n",
    "En Python, il existe des variables dites _booléennes_. Ces variables peuvent prendre la valeur `True` ou `False`, ce qui correspond parfaitement à l'état d'une condition : elle est soit vraie, soit fausse. Voici quelques exemples de variables booléennes :"
   ]
  },
  {
   "cell_type": "code",
   "execution_count": 59,
   "metadata": {},
   "outputs": [],
   "source": [
    "# Attention à la syntaxe de True et False !\n",
    "une_variable_vraie = True\n",
    "une_variable_fausse = False"
   ]
  },
  {
   "cell_type": "markdown",
   "metadata": {},
   "source": [
    "Ces variables ne sont pas très intéressantes... Mais c'est la base. On peut créer d'autres variables booléennes un peu plus complexes grâce à certains opérateurs de comparaison :"
   ]
  },
  {
   "cell_type": "code",
   "execution_count": 60,
   "metadata": {},
   "outputs": [
    {
     "name": "stdout",
     "output_type": "stream",
     "text": [
      "False False True\n"
     ]
    }
   ],
   "source": [
    "a = 10\n",
    "b = 3\n",
    "# premier_test prend la valeur False parce que a n'est pas égal à b\n",
    "premier_test = a == b\n",
    "# second_test prend la valeur False parce que a n'est pas inférieur ou égal à b\n",
    "second_test = a <= b\n",
    "# troisieme_test prend la valeur True parce que a est strictement supérieur à b\n",
    "troisieme_test = a > b\n",
    "\n",
    "print(premier_test, second_test, troisieme_test)"
   ]
  },
  {
   "cell_type": "markdown",
   "metadata": {},
   "source": [
    "En regardant ces exemples de plus près, on peut voir par exemple que :\n",
    "\n",
    "- `a == b` donne la réponse à la question \"Est-ce que a est égal à b ?\"\n",
    "- `a <= b` donne la réponse à la question \"Est-ce que a est inférieur ou égal à b ?\"\n",
    "- `a > b` donne la réponse à la question \"Est-ce que a est strictement supérieur à b ?\"\n",
    "\n",
    "Ces questions ont toutes comme réponse oui ou non. Et on peut donc imaginer que toute question qui attend une réponse \"oui/non\" peut être décrite comme une condition en Python.\n",
    "\n",
    "Par exemple, en regardant le fichier `nat2018.csv`, j'ai vu que ce fichier contenait 636475 lignes. Je peux donc poser la question suivante à Python : \"Est-ce que ma variable `donnees` contient bien 636475 lignes ?\" "
   ]
  },
  {
   "cell_type": "code",
   "execution_count": 61,
   "metadata": {},
   "outputs": [
    {
     "name": "stdout",
     "output_type": "stream",
     "text": [
      "False\n"
     ]
    }
   ],
   "source": [
    "fichier_complet = len(donnees) == 636475\n",
    "print(fichier_complet)"
   ]
  },
  {
   "cell_type": "markdown",
   "metadata": {},
   "source": [
    "Étonnant... La réponse a ma question est non. Voyons voir donc combien de lignes sont contenues dans la variable `donnees` :"
   ]
  },
  {
   "cell_type": "code",
   "execution_count": 62,
   "metadata": {},
   "outputs": [
    {
     "name": "stdout",
     "output_type": "stream",
     "text": [
      "636474\n"
     ]
    }
   ],
   "source": [
    "print(len(donnees))"
   ]
  },
  {
   "cell_type": "markdown",
   "metadata": {},
   "source": [
    "Intéressant. On constate qu'il manque une ligne dans la variable `donnees`. En réfléchissant bien, on comprend rapidement pourquoi : l'en-tête du fichier CSV n'est pas considérée comme une donnée et n'est donc pas contenue dans la variable `donnees`. On peut le voir de façon explicite avec le résultat suivant :"
   ]
  },
  {
   "cell_type": "code",
   "execution_count": 63,
   "metadata": {},
   "outputs": [
    {
     "name": "stdout",
     "output_type": "stream",
     "text": [
      "   sexe preusuel annais  nombre\n",
      "0     1        A   1980       3\n",
      "1     1        A   1998       3\n",
      "2     1        A   XXXX      21\n",
      "3     1    AADAM   2009       4\n",
      "4     1    AADAM   2014       3\n"
     ]
    }
   ],
   "source": [
    "print(donnees.head())"
   ]
  },
  {
   "cell_type": "markdown",
   "metadata": {},
   "source": [
    "Une autre question que je peux me poser : Est-ce qu'il y a bien des lignes pour le prénom \"Patrick\" ?"
   ]
  },
  {
   "cell_type": "code",
   "execution_count": 64,
   "metadata": {},
   "outputs": [
    {
     "name": "stdout",
     "output_type": "stream",
     "text": [
      "True\n",
      "True\n"
     ]
    }
   ],
   "source": [
    "# Attention, tous les prénoms sont écrits en lettres majuscules\n",
    "patrick_present = \"PATRICK\" in list(donnees['preusuel'])\n",
    "print(patrick_present)\n",
    "\n",
    "# On pourrait aussi faire ça avec une boucle\n",
    "for indice, ligne in donnees.iterrows():\n",
    "    if \"PATRICK\" in ligne[\"preusuel\"]:\n",
    "        print(True)\n",
    "        break"
   ]
  },
  {
   "cell_type": "markdown",
   "metadata": {},
   "source": [
    "#### Algèbre de Boole\n",
    "\n",
    "Il est possible de créer des conditions plus complexes. Par exemple, comment écrire la condition permettant de répondre à la question suivante : \"Est-ce qu'il y a bien une ligne pour le prénom \"Emmanuel\" pour l'année 1977 ?\"\n",
    "\n",
    "Avant de construire la condition en Python, nous allons parler des opérations que nous pouvons faire dans _l'algèbre de Boole_ : les opérations `et` et `ou`.\n",
    "\n",
    "Le tableau ci-après s'appelle _une table de vérité_ et nous explique comment utiliser les opérations `et` et `ou`.\n",
    "\n",
    "| a | b | a ET b | a OU b |\n",
    "|---|---|--------|--------|\n",
    "| FAUX | FAUX | FAUX | FAUX |\n",
    "| VRAI | FAUX | FAUX | VRAI |\n",
    "| FAUX | VRAI | FAUX | VRAI |\n",
    "| VRAI | VRAI | VRAI | VRAI |\n",
    "\n",
    "On peut vérifier que cette table de vérité est bien respectée en Python :"
   ]
  },
  {
   "cell_type": "code",
   "execution_count": 65,
   "metadata": {},
   "outputs": [
    {
     "name": "stdout",
     "output_type": "stream",
     "text": [
      "False\n",
      "True\n"
     ]
    }
   ],
   "source": [
    "a = True\n",
    "b = False\n",
    "# On fait attention à la syntaxe des opérateurs 'and' et 'or'\n",
    "print(a and b)\n",
    "print(a or b)"
   ]
  },
  {
   "cell_type": "markdown",
   "metadata": {},
   "source": [
    "#### Structure conditionnelle en Python\n",
    "\n",
    "Grâce aux conditions, on peut désormais construire des structures conditionnelles. Celles-ci vont utiliser jusqu'à 3 mots clés : `if`, `elif`, et `else`.\n",
    "\n",
    "Avec ces mots-clés, on peut créer des _branches conditionnelles_. Ce sont des morceaux de code qui pourront être réalisés (ou pas) si une condition est vraie. Un exemple assez courant est la vérification d'un formulaire d'inscription (par exemple à Instagram) :\n",
    "\n",
    "```\n",
    "SI age < 13 ALORS\n",
    "    Ne pas autoriser l'inscription\n",
    "SINON\n",
    "    Autoriser l'inscription\n",
    "```\n",
    "    \n"
   ]
  },
  {
   "cell_type": "markdown",
   "metadata": {},
   "source": [
    "Un autre exemple en pseudocode:\n",
    "\n",
    "```\n",
    "SI note >= 16 ALORS\n",
    "    Donner la mention Très Bien\n",
    "SINON SI note >= 14 ALORS\n",
    "    Donner la mention Bien\n",
    "SINON SI note >= 12 ALORS\n",
    "    Donner la mention Assez bien\n",
    "SINON SI note >= 10 ALORS\n",
    "    Donner la mention Passable\n",
    "SINON\n",
    "    Donner la mention Recalé\n",
    "    "
   ]
  },
  {
   "cell_type": "markdown",
   "metadata": {},
   "source": [
    "On constate plusieurs constructions possibles :\n",
    "\n",
    "- Une structure conditionnelle avec seulement deux branches s'il n'y a que deux cas possibles (SI/SINON) ;\n",
    "- Une structure conditionnelle avec beaucoup plus de branches si plusieurs cas doivent être traités (SI/SINON SI/SINON).\n",
    "\n",
    "Ces deux exemples peuvent être écrits en Python de la manière suivante :"
   ]
  },
  {
   "cell_type": "code",
   "execution_count": 66,
   "metadata": {},
   "outputs": [
    {
     "name": "stdout",
     "output_type": "stream",
     "text": [
      "Inscription autorisée.\n",
      "Mention Assez Bien\n"
     ]
    }
   ],
   "source": [
    "age = 16\n",
    "\n",
    "# On note les mots-clés if et else\n",
    "# On note également la présence du symbole \":\"\n",
    "# On note enfin la présence d'indentation pour délimiter les corps de chaque branche\n",
    "if age < 13:\n",
    "    print(\"Vous n'avez pas l'âge minimum pour vous inscrire.\")\n",
    "else:\n",
    "    print(\"Inscription autorisée.\")\n",
    "    \n",
    "note = 12\n",
    "\n",
    "# On remarque le mot-clé \"elif\" (et non pas \"else if\")\n",
    "# On remarque qu'il faut bien mettre les conditions après les mots-clés if et elif\n",
    "if note >= 16:\n",
    "    print(\"Mention Très Bien\")\n",
    "elif note >= 14:\n",
    "    print(\"Mention Bien\")\n",
    "elif note >= 12:\n",
    "    print(\"Mention Assez Bien\")\n",
    "elif note >= 10:\n",
    "    print(\"Mention Passable\")\n",
    "else:\n",
    "    print(\"Recalé\")"
   ]
  },
  {
   "cell_type": "markdown",
   "metadata": {},
   "source": [
    "Maintenant que nous avons vu les boucles et les structures conditionnelles, on peut se pencher sur la question que nous nous sommes posés plus haut : \"Existe-t-il une ligne avec comme prénom EMMANUEL et comme année de naissance 1977 ?\" La réponse devrait être oui, puisque Emmanuel Macron est né en 1977.\n",
    "\n",
    "Pour répondre à cette question, un algorithme que nous pouvons écrire est le suivant :\n",
    "\n",
    "```\n",
    "POUR CHAQUE ligne DANS donnees:\n",
    "    SI ligne['preusuel'] == \"EMMANUEL ET ligne['annais'] == 1977 ALORS\n",
    "        Afficher \"Résultat trouvé !\"\n",
    "```\n",
    "\n",
    "On peut donc traduire ce programme en Python :"
   ]
  },
  {
   "cell_type": "code",
   "execution_count": 68,
   "metadata": {},
   "outputs": [
    {
     "name": "stdout",
     "output_type": "stream",
     "text": [
      "Donnée trouvée à la ligne 48635 !\n"
     ]
    }
   ],
   "source": [
    "for indice, ligne in donnees.iterrows():\n",
    "    if \"EMMANUEL\" in ligne['preusuel'] and \"1977\" in ligne['annais']:\n",
    "        print(\"Donnée trouvée à la ligne\", indice, \"!\")\n",
    "        # Le mot-clé break permet de terminer l'exécution de la boucle (sinon, il resterait encore BEAUCOUP de lignes à parcourir pour rien)\n",
    "        break"
   ]
  },
  {
   "cell_type": "markdown",
   "metadata": {},
   "source": [
    "## Bonus : Création d'un graphique avec `pandas` et `plotnine`\n",
    "\n",
    "Avec ce que nous avons vu aujourd'hui (et quelques notions sur les listes et les dictionnaires), nous sommes d'ores et déjè en mesure de construire et d'afficher des graphes à partir du fichier `nat2018.csv`.\n",
    "\n",
    "Par exemple, si nous souhaitons afficher le nombre total de naissance en fonction de l'année de naissance, nous pourrions utiliser le code suivant :"
   ]
  },
  {
   "cell_type": "code",
   "execution_count": 71,
   "metadata": {},
   "outputs": [
    {
     "name": "stdout",
     "output_type": "stream",
     "text": [
      "[1900, 1901, 1902, 1903, 1904]\n",
      "[415032, 453432, 465774, 468792, 478935]\n"
     ]
    },
    {
     "data": {
      "image/png": "[encoded data removed]",
      "text/plain": [
       "<Figure size 640x480 with 1 Axes>"
      ]
     },
     "metadata": {},
     "output_type": "display_data"
    },
    {
     "data": {
      "text/plain": [
       "<ggplot: (289654935)>"
      ]
     },
     "execution_count": 71,
     "metadata": {},
     "output_type": "execute_result"
    }
   ],
   "source": [
    "from plotnine import ggplot, aes, geom_line\n",
    "\n",
    "# Nous pouvons d'abord créer une liste qui contient les années depuis 1900 jusqu'à 2018\n",
    "annees = list(range(1900, 2019))\n",
    "\n",
    "# Nous pouvons ensuite construire la liste des naissances grâce à une boucle imbriquée\n",
    "# Cette solution n'est pas très optimisée (et prend un peu de temps...)\n",
    "# naissances = []\n",
    "# for annee in annees:\n",
    "#     total_naissance = 0\n",
    "#     for indice, ligne in donnees.iterrows():\n",
    "#         if ligne['annais'] == annee:\n",
    "#             total_naissances += lignes['nombre']\n",
    "#     naissances.append(total_naissances)\n",
    "    \n",
    "# Une façon un peu plus optimisée de faire serait de profiter des listes par compréhension et de pandas:\n",
    "naissances = [donnees[donnees['annais'] == str(annee)]['nombre'].sum() for annee in annees]\n",
    "\n",
    "print(annees[:5])\n",
    "print(naissances[:5])\n",
    "\n",
    "# Puis, nous devons créer un dataframe pour pouvoir le passer à plotnine et afficher un graphique\n",
    "# Pour cela, nous devons passer par un dictionnaire, puis utiliser la fonction pandas.from_dict()\n",
    "naissances_annees = {\"Annee\": annees, \"Naissances\": naissances}\n",
    "naissances_par_annees = pd.DataFrame(naissances_annees)\n",
    "\n",
    "# Et enfin, nous pouvons utiliser plotnine qui permet de construire des graphes avec ce qu'on appelle la \"grammaire de graphes\"\n",
    "\n",
    "(\n",
    "    ggplot(naissances_par_annees)\n",
    "    + aes(x = \"Annee\", y = \"Naissances\")\n",
    "    + geom_line()\n",
    ")"
   ]
  },
  {
   "cell_type": "markdown",
   "metadata": {},
   "source": [
    "Nous pouvons désormais regarer de plus près ces données et tenter de fournir une explications aux différentes chutes de natalité observées sur le graphe !\n",
    "\n",
    "## Merci d'avoir suivi cet atelier !\n",
    "\n",
    "N'h"
   ]
  }
 ],
 "metadata": {
  "kernelspec": {
   "display_name": "Python 3",
   "language": "python",
   "name": "python3"
  },
  "language_info": {
   "codemirror_mode": {
    "name": "ipython",
    "version": 3
   },
   "file_extension": ".py",
   "mimetype": "text/x-python",
   "name": "python",
   "nbconvert_exporter": "python",
   "pygments_lexer": "ipython3",
   "version": "3.9.1"
  }
 },
 "nbformat": 4,
 "nbformat_minor": 4
}
