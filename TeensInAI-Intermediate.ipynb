{
 "cells": [
  {
   "cell_type": "markdown",
   "metadata": {},
   "source": [
    "# Teens in AI France 2021 – Workshop Python"
   ]
  },
  {
   "cell_type": "markdown",
   "metadata": {},
   "source": [
    "## Présentation du workshop\n",
    "\n",
    "Dans ce workshop, nous allons voir un certain nombre de concepts élémentaires de la programmation avec en particulier les\n",
    "notions des variables, de structures de contrôle, de structures de données, et de fonctions. Ces notions seront utilisées\n",
    "dans le cadre d'un exemple : celui de l'analyse des données rapportées par l'INSEE sur les naissances et prénoms donnés en\n",
    "France entre 1900 et 2018. Pour cela, je vais utiliser un fichier `nat2018.csv` que vous pourrez également retrouver\n",
    "[ici](https://patrickwang.fr/files/nat2018.csv).\n",
    "\n",
    "Pour préparer cette étude, nous allons avoir besoin de plusieurs _bibliothèques_ (en particulier pandas et numpy) qui sont très souvent\n",
    "utilisées dans le domaine de l'analyse de données. Ces bibliothèques devraient être installées par défaut si vous avez\n",
    "pris la distribution anaconda. Sinon, il faudra passer par `pip`, le gestionnaire de bibliothèques natif de Python.\n",
    "\n",
    "(Un fichier CSV est un fichier qui permet de représenter les données d'un tableau sous forme de texte. Une ligne correspond à une entrée\n",
    "du tableau. Les colonnes sont quant à elles séparées par une virgule ou un point-virgule.)\n",
    "\n",
    "Le code ci-après permet de lire le contenu du fichier `nat2018.csv` et de le sauvegarder dans une **variable**."
   ]
  },
  {
   "cell_type": "code",
   "execution_count": 72,
   "metadata": {
    "pycharm": {
     "is_executing": true,
     "name": "#%%\n"
    }
   },
   "outputs": [],
   "source": [
    "# Cette ligne indique que nous allons utiliser la bibliothèque pandas\n",
    "import pandas as pd\n",
    "\n",
    "# La bibliothèque pandas nous offre la fonction read_csv() qui permet de lire un fichier CSV\n",
    "# Le contenu de ce fichier est ensuite sauvegardé dans la variable dataframe\n",
    "dataframe = pd.read_csv(\"nat2018.csv\", sep=\";\")"
   ]
  },
  {
   "cell_type": "markdown",
   "metadata": {
    "pycharm": {
     "name": "#%% md\n"
    }
   },
   "source": [
    "## Les variables\n",
    "\n",
    "Une variable permet de représenter une donnée dont la valeur peut changer avec le temps.\n",
    "\n",
    "**Une variable possède forcément un nom et une valeur**. Pour créer une variable (on dit\n",
    "aussi que l'on déclare et initialise une variable), on va utiliser la syntaxe suivante :\n",
    "\n",
    "```\n",
    "nom_de_ma_variable = valeur\n",
    "```\n",
    "\n",
    "Attention, le nom de la variable est toujours à gauche du symbole `=`. La valeur que l'on\n",
    "assigne à cette variable se trouve toujours à droite du symbole `=`.\n",
    "\n",
    "Voici quelques autres exemples :"
   ]
  },
  {
   "cell_type": "code",
   "execution_count": 73,
   "metadata": {
    "collapsed": false,
    "jupyter": {
     "outputs_hidden": false
    },
    "pycharm": {
     "is_executing": true,
     "name": "#%%\n"
    }
   },
   "outputs": [],
   "source": [
    "annee_recherchee = \"2000\"\n",
    "\n",
    "# Dans le fichier nat2018.csv, les prénoms garçons sont identifiés par un 1.\n",
    "# Les prénoms des filles sont identifés par un 2.\n",
    "prenom_masculin = 1\n",
    "prenom_feminin = 2"
   ]
  },
  {
   "cell_type": "markdown",
   "metadata": {
    "pycharm": {
     "name": "#%% md\n"
    }
   },
   "source": [
    "Dans l'exemple ci-dessus, nous avons donc créee trois variables différentes avec des noms\n",
    "différents et des valeurs différentes. Pour obtenir la valeur d'une variable, il suffit\n",
    "de l'appeler par son nom :"
   ]
  },
  {
   "cell_type": "code",
   "execution_count": 74,
   "metadata": {
    "collapsed": false,
    "jupyter": {
     "outputs_hidden": false
    },
    "pycharm": {
     "is_executing": true,
     "name": "#%%\n"
    }
   },
   "outputs": [
    {
     "data": {
      "text/plain": [
       "2"
      ]
     },
     "execution_count": 74,
     "metadata": {},
     "output_type": "execute_result"
    }
   ],
   "source": [
    "prenom_feminin\n",
    "\n",
    "# On peut aussi utiliser la fonction print()\n",
    "# print(prenom_feminin)"
   ]
  },
  {
   "cell_type": "markdown",
   "metadata": {
    "pycharm": {
     "is_executing": true,
     "name": "#%% md\n"
    }
   },
   "source": [
    "Nous avons dit plus tôt qu'une variable pouvait changer de valeur au cours du temps.\n",
    "Cela signifie que l'on peut modifier la valeur d'une variable selon nos besoins. Par exemple,\n",
    "je reprend la variable `prenom_masculin` pour lui changer sa valeur :"
   ]
  },
  {
   "cell_type": "code",
   "execution_count": 87,
   "metadata": {
    "collapsed": false,
    "jupyter": {
     "outputs_hidden": false
    },
    "pycharm": {
     "is_executing": true,
     "name": "#%%\n"
    }
   },
   "outputs": [
    {
     "name": "stdout",
     "output_type": "stream",
     "text": [
      "1\n"
     ]
    }
   ],
   "source": [
    "# J'affiche la valeur de prenom_masculin avant modification\n",
    "print(prenom_masculin)"
   ]
  },
  {
   "cell_type": "code",
   "execution_count": 88,
   "metadata": {
    "collapsed": false,
    "jupyter": {
     "outputs_hidden": false
    },
    "pycharm": {
     "is_executing": true,
     "name": "#%%\n"
    }
   },
   "outputs": [
    {
     "name": "stdout",
     "output_type": "stream",
     "text": [
      "0\n"
     ]
    }
   ],
   "source": [
    "# Je modifie la valeur de prenom_masculin en lui assignant une nouvelle valeur\n",
    "prenom_masculin = 0\n",
    "# Puis j'affiche cette nouvelle valeur\n",
    "print(prenom_masculin)\n",
    "# Je peux remettre la valeur initiale\n",
    "prenom_masculin = 1"
   ]
  },
  {
   "cell_type": "markdown",
   "metadata": {
    "pycharm": {
     "name": "#%% md\n"
    }
   },
   "source": [
    "Dans les deux programmes ci-dessus, on note que l'instruction pour appeler une variable\n",
    "est identique. Mais puisque la valeur a été modifiée, les deux appels de variables ont des\n",
    "résultats différents.\n",
    "\n",
    "### Intérêt des variables\n",
    "\n",
    "Les variables ont plusieurs intérêts :\n",
    "\n",
    "- Elles permettent de \"donner du sens\" à certaines valeurs, rendant le code plus lisible.\n",
    "- Elles permettent de manipuler plus facilement des données plus ou moins complexes dans\n",
    "  nos programmes (par exemple, la variable `dataframe` est une variable qui permet de stocker\n",
    "  plus de 600 000 lignes !)\n",
    "\n",
    "### Les types de variables\n",
    "\n",
    "Il existe plusieurs types de variables en Python :\n",
    "\n",
    "- Les variables _numériques_ (qui peuvent être entières ou _flottantes).\n",
    "- Les variables _alphanumériques_ ou chaînes de caractères (c'est-à-dire, du texte).\n",
    "- Les variables _booléennes_ (c'est-à-dire, qui ont la valeur `vrai` ou `faux`).\n",
    "\n",
    "Il existe aussi des types dits _composés_ qui correspondent à des variables qui stockent\n",
    "plus d'une information. Par exemple :\n",
    "\n",
    "- `prenom_feminin` est une variable numérique.\n",
    "- `annee_recherchee` est une chaîne de caractères.\n",
    "- `dataframe` est une variable composée.\n",
    "\n",
    "### Opérations communes sur les variables\n",
    "\n",
    "On peut réaliser un certain nombre d'opérations sur les variables. Pour ne pas prendre trop\n",
    "de temps sur le workshop, vous pouvez regarder [cette page](https://www.w3schools.com/python/python_operators.asp)\n",
    "qui contient une liste d'opérations usuelles sur des variables.\n",
    "\n",
    "## Structures de contrôle\n",
    "\n",
    "### Introduction et intérêt des structures de contrôles\n",
    "\n",
    "Malgré les apparences, les instructions d'un programme ne s'exécutent pas forcément de haut en bas. Les structures de\n",
    " contrôles permettent justement de _casser_ cette linéarité en nous offrant la possibilité de :\n",
    "\n",
    "- Répéter un bloc d'instructions selon une condition donnée ;\n",
    "- Exécuter ou pas un bloc d'instructions selon une condition donnée.\n",
    "\n",
    "Ce genre de structures s'avèrent très utiles. Par exemple, pour calculer le nombre de naissances en 2000, il faudrait\n",
    " être capable de :\n",
    "\n",
    "- Parcourir l'ensemble du contenu de la variable `dataframe` (soit plus de 600 000 lignes).\n",
    "- Pour chaque ligne, vérifier que la colonne `annais` donne la valeur 2000 ;\n",
    "- Cumuler les nombres de fois que les prénoms ont été donnés en 2000.\n",
    "\n",
    "### Les structures itératives\n",
    "\n",
    "Une structure itérative (aussi appelée _boucle_), permet de répéter un bloc d'instructions. Il existe deux types de\n",
    "boucles :\n",
    "\n",
    "- Soit les instructions sont répétées un nombre défini de fois ;\n",
    "- Soit les instructions sont répétées tant qu'une condition est vérifiée.\n",
    "\n",
    "Lorsque l'on souhaite répéter des instructions, il est donc *primordial* de se poser la question suivante : Est-ce\n",
    "que je sais combien de fois je dois répéter mes instructions ?\n",
    "\n",
    "#### Boucle `for`\n",
    "\n",
    "La boucle `for` est à utiliser lorsque l'on est capable de déterminer exactement le nombre de fois que nos\n",
    "instructions devront être répétées. C'est donc idéal lorsque nous souhaitons parcourir un _dataframe_ créé par\n",
    "`pandas` ou une _liste_ (on va voir juste après ce qu'est une liste).\n",
    "\n",
    "Tout d'abord, commençons par regarer un peu ce que contient la variable `dataframe`."
   ]
  },
  {
   "cell_type": "code",
   "execution_count": 77,
   "metadata": {
    "collapsed": false,
    "jupyter": {
     "outputs_hidden": false
    },
    "pycharm": {
     "is_executing": true,
     "name": "#%%\n"
    }
   },
   "outputs": [
    {
     "data": {
      "text/html": [
       "<div>\n",
       "<style scoped>\n",
       "    .dataframe tbody tr th:only-of-type {\n",
       "        vertical-align: middle;\n",
       "    }\n",
       "\n",
       "    .dataframe tbody tr th {\n",
       "        vertical-align: top;\n",
       "    }\n",
       "\n",
       "    .dataframe thead th {\n",
       "        text-align: right;\n",
       "    }\n",
       "</style>\n",
       "<table border=\"1\" class=\"dataframe\">\n",
       "  <thead>\n",
       "    <tr style=\"text-align: right;\">\n",
       "      <th></th>\n",
       "      <th>sexe</th>\n",
       "      <th>preusuel</th>\n",
       "      <th>annais</th>\n",
       "      <th>nombre</th>\n",
       "    </tr>\n",
       "  </thead>\n",
       "  <tbody>\n",
       "    <tr>\n",
       "      <th>0</th>\n",
       "      <td>1</td>\n",
       "      <td>A</td>\n",
       "      <td>1980</td>\n",
       "      <td>3</td>\n",
       "    </tr>\n",
       "    <tr>\n",
       "      <th>1</th>\n",
       "      <td>1</td>\n",
       "      <td>A</td>\n",
       "      <td>1998</td>\n",
       "      <td>3</td>\n",
       "    </tr>\n",
       "    <tr>\n",
       "      <th>2</th>\n",
       "      <td>1</td>\n",
       "      <td>A</td>\n",
       "      <td>XXXX</td>\n",
       "      <td>21</td>\n",
       "    </tr>\n",
       "    <tr>\n",
       "      <th>3</th>\n",
       "      <td>1</td>\n",
       "      <td>AADAM</td>\n",
       "      <td>2009</td>\n",
       "      <td>4</td>\n",
       "    </tr>\n",
       "    <tr>\n",
       "      <th>4</th>\n",
       "      <td>1</td>\n",
       "      <td>AADAM</td>\n",
       "      <td>2014</td>\n",
       "      <td>3</td>\n",
       "    </tr>\n",
       "    <tr>\n",
       "      <th>5</th>\n",
       "      <td>1</td>\n",
       "      <td>AADAM</td>\n",
       "      <td>2016</td>\n",
       "      <td>4</td>\n",
       "    </tr>\n",
       "    <tr>\n",
       "      <th>6</th>\n",
       "      <td>1</td>\n",
       "      <td>AADAM</td>\n",
       "      <td>2017</td>\n",
       "      <td>4</td>\n",
       "    </tr>\n",
       "    <tr>\n",
       "      <th>7</th>\n",
       "      <td>1</td>\n",
       "      <td>AADAM</td>\n",
       "      <td>2018</td>\n",
       "      <td>3</td>\n",
       "    </tr>\n",
       "    <tr>\n",
       "      <th>8</th>\n",
       "      <td>1</td>\n",
       "      <td>AADAM</td>\n",
       "      <td>XXXX</td>\n",
       "      <td>9</td>\n",
       "    </tr>\n",
       "    <tr>\n",
       "      <th>9</th>\n",
       "      <td>1</td>\n",
       "      <td>AADEL</td>\n",
       "      <td>1976</td>\n",
       "      <td>5</td>\n",
       "    </tr>\n",
       "  </tbody>\n",
       "</table>\n",
       "</div>"
      ],
      "text/plain": [
       "   sexe preusuel annais  nombre\n",
       "0     1        A   1980       3\n",
       "1     1        A   1998       3\n",
       "2     1        A   XXXX      21\n",
       "3     1    AADAM   2009       4\n",
       "4     1    AADAM   2014       3\n",
       "5     1    AADAM   2016       4\n",
       "6     1    AADAM   2017       4\n",
       "7     1    AADAM   2018       3\n",
       "8     1    AADAM   XXXX       9\n",
       "9     1    AADEL   1976       5"
      ]
     },
     "execution_count": 77,
     "metadata": {},
     "output_type": "execute_result"
    }
   ],
   "source": [
    "# On affiche les 10 premières valeurs de dataframe\n",
    "dataframe.head(10)\n"
   ]
  },
  {
   "cell_type": "markdown",
   "metadata": {
    "pycharm": {
     "name": "#%% md\n"
    }
   },
   "source": [
    "On constate donc que `dataframe` est une variable qui représente un tableau de données (ça tombe bien, un CSV est un\n",
    "tableau de données). On peut donc être intéressé par parcourir ce tableau ligne par ligne. Puisque nous pouvons a\n",
    "priori déterminer le nombre de lignes contenues dans cette variable, nous pouvons utiliser une boucle `for` pour\n",
    "parcourir ses éléments.\n",
    "\n",
    "La syntaxe que nous allons utiliser est peut-être légèrement différente de celle que vous connaissez. Cela est dû au\n",
    "fait que j'utilise `pandas` et que les dataframes sont des _types_ de variables particulières.\n",
    "Mais ne soyez pas perturbés par celle-ci."
   ]
  },
  {
   "cell_type": "code",
   "execution_count": 78,
   "metadata": {
    "collapsed": false,
    "jupyter": {
     "outputs_hidden": false
    },
    "pycharm": {
     "is_executing": true,
     "name": "#%%\n"
    }
   },
   "outputs": [
    {
     "name": "stdout",
     "output_type": "stream",
     "text": [
      "0\n",
      "sexe           1\n",
      "preusuel       A\n",
      "annais      1980\n",
      "nombre         3\n",
      "Name: 0, dtype: object\n",
      "1\n",
      "sexe           1\n",
      "preusuel       A\n",
      "annais      1998\n",
      "nombre         3\n",
      "Name: 1, dtype: object\n",
      "2\n",
      "sexe           1\n",
      "preusuel       A\n",
      "annais      XXXX\n",
      "nombre        21\n",
      "Name: 2, dtype: object\n",
      "3\n",
      "sexe            1\n",
      "preusuel    AADAM\n",
      "annais       2009\n",
      "nombre          4\n",
      "Name: 3, dtype: object\n",
      "4\n",
      "sexe            1\n",
      "preusuel    AADAM\n",
      "annais       2014\n",
      "nombre          3\n",
      "Name: 4, dtype: object\n"
     ]
    }
   ],
   "source": [
    "# Pour ne pas afficher trop de données, je décide de boucler uniquement sur les 5 premières lignes\n",
    "# indice <-- numéro de la ligne\n",
    "# ligne  <-- donnée de la ligne\n",
    "for indice, ligne in dataframe.head().iterrows():\n",
    "    print(indice)\n",
    "    print(ligne)\n",
    "\n",
    "# Pour boucler sur l'ensemble des données, on aurait pu faire :\n",
    "# for indice, ligne in dataframe.iterrows():\n",
    "#     print(indice)\n",
    "#     print(ligne)"
   ]
  },
  {
   "cell_type": "markdown",
   "metadata": {
    "pycharm": {
     "name": "#%% md\n"
    }
   },
   "source": [
    "Désormais, et si on chercher toujours à déterminer le nombre de naissances en 2000, il faut que l'on puisse filtrer\n",
    "les données de `dataframe` en fonction de la valeur de la colonne `annais`. On va voir cela après le petit paragraphe\n",
    " sur la boucle `while`."
   ]
  },
  {
   "cell_type": "markdown",
   "metadata": {
    "pycharm": {
     "name": "#%% md\n"
    }
   },
   "source": [
    "#### Boucle `while`\n",
    "\n",
    "Par soucis de temps, nous n'allons pas parler de la boucle `while` ici. Mais vous pourrez trouver plus d'informations\n",
    " à ce sujet [ici](https://www.w3schools.com/python/python_while_loops.asp)."
   ]
  },
  {
   "cell_type": "markdown",
   "metadata": {
    "pycharm": {
     "name": "#%% md\n"
    }
   },
   "source": [
    "## Structures conditionnelles\n",
    "\n",
    "Les structures conditionnelles permettent d'effectuer des instructions si une condition est vérifiée. Une première\n",
    "question que l'on peut se poser est la suivante : Comment décrire une condition en Python ?\n",
    "\n",
    "Nous avions mentionné plus tôt les variables dites _booléennes_. Ces variables ne peuvent prendre que la valeur\n",
    "`True` ou `False`. Ces variables sont donc tout à fait adaptées pour décrire des conditions qui peuvent donc être\n",
    "vraies ou fausses.\n",
    "\n",
    "On peut ainsi concevoir un petit programme qui permet de calculer le nombre de naissances en 2000."
   ]
  },
  {
   "cell_type": "code",
   "execution_count": 89,
   "metadata": {
    "collapsed": false,
    "jupyter": {
     "outputs_hidden": false
    },
    "pycharm": {
     "is_executing": true,
     "name": "#%%\n"
    }
   },
   "outputs": [
    {
     "name": "stdout",
     "output_type": "stream",
     "text": [
      "799854\n"
     ]
    }
   ],
   "source": [
    "nb_naissances = 0\n",
    "# Cette boucle est identique à celle écrite plus haut\n",
    "for indice, ligne in dataframe.iterrows():\n",
    "    # Cette condition permet de vérifier que l'année de naissance de la ligne courante\n",
    "    # est bien égale à 2000 (qui est la valeur stockée dans la variable annee_recherchee)\n",
    "    if ligne[\"annais\"] == annee_recherchee:\n",
    "        nb_naissances += ligne[\"nombre\"]\n",
    "\n",
    "print(nb_naissances)"
   ]
  },
  {
   "cell_type": "markdown",
   "metadata": {
    "pycharm": {
     "name": "#%% md\n"
    }
   },
   "source": [
    "Le programme ci-dessus montre plusieurs choses :\n",
    "\n",
    "- L'utilité des boucles pour parcourir des listes ou des tableaux ;\n",
    "- L'utilité des structures conditionnelles pour effectuer des instructions spécifiques ;\n",
    "- L'utilité des variables, puisqu'on peut rapidement changer la valeur de `anneee_recherchee` pour avoir\n",
    "l'information du nombre de naissances sur l'année que l'on veut.\n",
    "\n",
    "Enfin, voici une solution un peu plus courte et un peu plus rapide pour faire la même chose (en utilisant les outils\n",
    "que `pandas` nous donne) :"
   ]
  },
  {
   "cell_type": "code",
   "execution_count": 80,
   "metadata": {
    "collapsed": false,
    "jupyter": {
     "outputs_hidden": false
    },
    "pycharm": {
     "is_executing": true,
     "name": "#%%\n"
    }
   },
   "outputs": [
    {
     "data": {
      "text/plain": [
       "799854"
      ]
     },
     "execution_count": 80,
     "metadata": {},
     "output_type": "execute_result"
    }
   ],
   "source": [
    "# On filtre dataframe pour ne récupérer que les lignes ou annais == annee_recherchee\n",
    "lignes_2000 = dataframe[dataframe[\"annais\"] == annee_recherchee]\n",
    "# Puis, on somme sur la colonne \"nombre\"\n",
    "print(lignes_2000[\"nombre\"].sum())"
   ]
  },
  {
   "cell_type": "markdown",
   "metadata": {
    "pycharm": {
     "name": "#%% md\n"
    }
   },
   "source": [
    "Avec le programme que l'on a écrit plus haut, on se rend compte que l'on pourrait très bien appliquer cet algorithme\n",
    "sur toutes les années du fichier `nat2018.csv`. C'est ce que l'on va faire tout de suite, et on va pouvoir gérer tout\n",
    " cela grâce aux _structures de données_."
   ]
  },
  {
   "cell_type": "markdown",
   "metadata": {
    "pycharm": {
     "name": "#%% md\n"
    }
   },
   "source": [
    "## Les structures de données\n",
    "\n",
    "### Introduction et intérêts\n",
    "\n",
    "Lorsque l'on a présenté les variables, on a dit que celles-ci pouvaient être de plusieurs types. Un élément que nous\n",
    "n'avions pas mentionné est que les variables de type primitives ne peuvent contenir qu'une seule valeur. Les\n",
    "structures de données peuvent être utilisées pour créer des variables _composées_.\n",
    "\n",
    "On y voit tout de suite un intérêt : notre fichier `nat2018.csv` est un tableau de 636474 lignes et 4 colonnes. Il\n",
    "aurait été beaucoup trop compliqué de gérer un tel fichier si une variable ne pouvait contenir qu'une seule valeur.\n",
    "\n",
    "En programmation, il y a plusieurs structures de données importantes : les listes, les dictionnaires, et les\n",
    "ensembles. `pandas` introduit son propre type de données qui est donc le _dataframe_. Dans la suite, nous allons voir\n",
    "ce que sont les listes et les dictionnaires.\n",
    "\n",
    "Et enfin, nous allons pouvoir répondre au problème que nous nous sommes posés plus tôt : comment faire pour obtenir\n",
    "le nombre de naissances par années ?"
   ]
  },
  {
   "cell_type": "markdown",
   "metadata": {
    "pycharm": {
     "name": "#%% md\n"
    }
   },
   "source": [
    "### Les listes\n",
    "\n",
    "Une liste est une séquence d'éléments. Puisque c'est une séquence, cela implique qu'il y a un premier élément, puis\n",
    "un second, puis un troisième, etc. La position d'un élément dans une liste est aussi appelée **indice**.\n",
    "\n",
    "En Python, **les indices commencent à 0**. Cela signifie que le premier élément est à l'indice 0, le second élément\n",
    "est à l'indice 1, etc. Le programme suivant nous montre comment créer une liste et effectuer des manipulations communes."
   ]
  },
  {
   "cell_type": "code",
   "execution_count": 90,
   "metadata": {
    "collapsed": false,
    "jupyter": {
     "outputs_hidden": false
    },
    "pycharm": {
     "name": "#%%\n"
    }
   },
   "outputs": [
    {
     "name": "stdout",
     "output_type": "stream",
     "text": [
      "1\n"
     ]
    }
   ],
   "source": [
    "# On note l'utilisation de crochets pour créer une liste\n",
    "ma_liste = [1, 3, \"Bonjour\", \"Teens in AI\"]\n",
    "# On appelle l'élément d'indice 0 de la liste ma_liste\n",
    "print(ma_liste[0])\n",
    "# On ajoute un élément à la fin de la liste\n",
    "ma_liste.append(\"Une nouvelle valeur\")\n",
    "# On retire un élément\n",
    "ma_liste.remove(\"Bonjour\")"
   ]
  },
  {
   "cell_type": "markdown",
   "metadata": {},
   "source": [
    "Pour notre problème, nous allons créer deux listes : une pour représenter toutes les années depuis 1900 jusqu'à 2018, et une autre pour représenter le nombre de naissances pour chaque année. En nous basant sur ce qui a été fait précédemment, et en utilisant les _listes par compréhension_ de Python, on peut facilement créer ce que l'on veut :"
   ]
  },
  {
   "cell_type": "code",
   "execution_count": 82,
   "metadata": {},
   "outputs": [
    {
     "name": "stdout",
     "output_type": "stream",
     "text": [
      "[1900, 1901, 1902, 1903, 1904]\n",
      "[415032, 453432, 465774, 468792, 478935]\n"
     ]
    }
   ],
   "source": [
    "# La fonction range permet de générer une liste d'entiers allant de 1900 à 2019 exclus.\n",
    "annees = list(range(1900, 2019))\n",
    "\n",
    "# On utilise ici la syntaxe de liste par compréhension qui permet de créer rapidement la liste du nombre de naissances pour chaque année\n",
    "naissances = [dataframe[dataframe[\"annais\"] == str(annee)][\"nombre\"].sum() for annee in annees]\n",
    "\n",
    "print(annees[:5])\n",
    "print(naissances[:5])"
   ]
  },
  {
   "cell_type": "markdown",
   "metadata": {
    "pycharm": {
     "name": "#%% md\n"
    }
   },
   "source": [
    "### Les dictionnaires\n",
    "\n",
    "Un dictionnaire est une structure qui associe des valeurs à une _clé unique_. Lorsque les listes utilisent des indices pour récupérer des valeurs, les dictionnaires utilisent des clés.\n",
    "\n",
    "Regardons de plus près la création de quelques dictionnaires :"
   ]
  },
  {
   "cell_type": "code",
   "execution_count": 83,
   "metadata": {},
   "outputs": [
    {
     "name": "stdout",
     "output_type": "stream",
     "text": [
      "{'01': 'Ain', '02': 'Aisne', '2A': 'Corse du Sud', '2B': 'Haute Corse'}\n",
      "Corse du Sud\n"
     ]
    }
   ],
   "source": [
    "# On note l'utilisation d'accolades pour le création d'un dictionnaire\n",
    "# Les clés se trouvent avant le symbole \":\"\n",
    "# Les valeurs associées à ces clés se trouve après le symbole \":\"\n",
    "departements_francais = {\"01\": \"Ain\", \"02\": \"Aisne\", \"2A\": \"Corse du Sud\", \"2B\": \"Haute Corse\"}\n",
    "\n",
    "# Si on souhaite créer un dictionnaire depuis nos deux listes, on peut faire ça :\n",
    "annees_et_naissances = {\"Annee\": annees, \"Naissances\": naissances}\n",
    "\n",
    "# On peut afficher le contenu de departements_francais:\n",
    "print(departements_francais)\n",
    "\n",
    "# On peut également récupérer un élément par sa clé :\n",
    "print(departements_francais[\"2A\"])"
   ]
  },
  {
   "cell_type": "markdown",
   "metadata": {},
   "source": [
    "## Bonus : Conversion en dataframe et affichage d'un graphique\n",
    "\n",
    "Le travail que nous avons effectué jusqu'à maintenant permet de compter le nombre de naissances par année. Il serait désormais intéressant de pouvoir créer un graphique qui rendrait compte de l'évolution de ce nombre de naissances année après année.\n",
    "\n",
    "Pour cela, il faut procéder à deux étapes :\n",
    "\n",
    "1. Convertir notre dictionnaire en un dataframe de `pandas`;\n",
    "2. Utiliser une bibliothèque de création de graphique et construire notre graphique (nous allons utiliser `plotnine`)."
   ]
  },
  {
   "cell_type": "markdown",
   "metadata": {},
   "source": [
    "### Création du dataframe\n",
    "\n",
    "`pandas` donne des outils très efficaces pour convertir rapidement un dictionnaire en dataframe :"
   ]
  },
  {
   "cell_type": "code",
   "execution_count": 84,
   "metadata": {},
   "outputs": [
    {
     "name": "stdout",
     "output_type": "stream",
     "text": [
      "   Annee  Naissances\n",
      "0   1900      415032\n",
      "1   1901      453432\n",
      "2   1902      465774\n",
      "3   1903      468792\n",
      "4   1904      478935\n"
     ]
    }
   ],
   "source": [
    "naissances_par_annees = pd.DataFrame(annees_et_naissances)\n",
    "print(naissances_par_annees.head())"
   ]
  },
  {
   "cell_type": "markdown",
   "metadata": {},
   "source": [
    "### Création du graphique\n",
    "\n",
    "Nous allons utiliser la bibliothèque `plotnine` pour créer un graphique. Vous pouvez voir la documentation de cette bibliothèque [ici](https://plotnine.readthedocs.io/en/stable/).\n",
    "\n",
    "Le code suivant permet donc d'afficher le graphique ci-après."
   ]
  },
  {
   "cell_type": "code",
   "execution_count": 85,
   "metadata": {},
   "outputs": [
    {
     "data": {
      "image/png": "[encoded data removed]",
      "text/plain": [
       "<Figure size 640x480 with 1 Axes>"
      ]
     },
     "metadata": {},
     "output_type": "display_data"
    },
    {
     "data": {
      "text/plain": [
       "<ggplot: (305393734)>"
      ]
     },
     "execution_count": 85,
     "metadata": {},
     "output_type": "execute_result"
    }
   ],
   "source": [
    "from plotnine import ggplot, aes, geom_line\n",
    "\n",
    "(\n",
    "    ggplot(naissances_par_annees)\n",
    "    + aes(x=\"Annee\", y=\"Naissances\")\n",
    "    + geom_line()\n",
    ")"
   ]
  },
  {
   "cell_type": "markdown",
   "metadata": {},
   "source": [
    "Désormais, il s'agit d'analyser un peu plus en profondeur les données et de les interpréter !\n",
    "\n",
    "\n",
    "### Merci d'avoir suivi cet atelier !\n",
    "\n",
    "J'espère que vous avez appris pleins de chose sur la programmation, Python, et l'analyse de données. N'hésitez pas à me poser toutes vos questions à : [patrick@patrickwang.fr](mailto:patrick@patrickwang.fr).\n",
    "\n",
    "Vous pourrez retrouver ce fichier à l'adresse suivante :\n",
    "\n",
    "https://github.com/PatWg/Teens-In-AI-France-2021/blob/main/TeensInAI-Intermediate.ipynb"
   ]
  }
 ],
 "metadata": {
  "kernelspec": {
   "display_name": "Python 3",
   "language": "python",
   "name": "python3"
  },
  "language_info": {
   "codemirror_mode": {
    "name": "ipython",
    "version": 3
   },
   "file_extension": ".py",
   "mimetype": "text/x-python",
   "name": "python",
   "nbconvert_exporter": "python",
   "pygments_lexer": "ipython3",
   "version": "3.9.1"
  }
 },
 "nbformat": 4,
 "nbformat_minor": 4
}
